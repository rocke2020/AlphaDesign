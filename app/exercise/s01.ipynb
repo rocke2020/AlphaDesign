{
 "cells": [
  {
   "cell_type": "code",
   "execution_count": 3,
   "metadata": {},
   "outputs": [
    {
     "name": "stdout",
     "output_type": "stream",
     "text": [
      "tensor(indices=tensor([[0, 1, 1],\n",
      "                       [2, 0, 2]]),\n",
      "       values=tensor([3, 4, 5]),\n",
      "       size=(2, 3), nnz=3, layout=torch.sparse_coo)\n",
      "tensor([[0, 0, 3],\n",
      "        [4, 0, 5]])\n"
     ]
    }
   ],
   "source": [
    "import os, sys\n",
    "import re\n",
    "import random\n",
    "from pathlib import Path\n",
    "import json\n",
    "import pandas as pd\n",
    "import numpy as np\n",
    "from pandas import DataFrame\n",
    "import torch\n",
    "\n",
    "i = [[0, 1, 1], [2, 0, 2]]\n",
    "v =  [3, 4, 5]\n",
    "s = torch.sparse_coo_tensor(i, v, (2, 3))\n",
    "print(s)\n",
    "print(s.to_dense())"
   ]
  }
 ],
 "metadata": {
  "kernelspec": {
   "display_name": "aipep",
   "language": "python",
   "name": "python3"
  },
  "language_info": {
   "codemirror_mode": {
    "name": "ipython",
    "version": 3
   },
   "file_extension": ".py",
   "mimetype": "text/x-python",
   "name": "python",
   "nbconvert_exporter": "python",
   "pygments_lexer": "ipython3",
   "version": "3.9.7"
  },
  "orig_nbformat": 4
 },
 "nbformat": 4,
 "nbformat_minor": 2
}
